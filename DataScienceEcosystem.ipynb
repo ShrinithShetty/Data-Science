{
 "cells": [
  {
   "cell_type": "markdown",
   "id": "df8f1d31-4c58-4d17-8865-60500cce193c",
   "metadata": {},
   "source": [
    "# Data Science Tools and Ecosystem\n"
   ]
  },
  {
   "cell_type": "markdown",
   "id": "60461364-d3d5-484c-8600-b5d88ac4e844",
   "metadata": {},
   "source": [
    "# Data Science Tools and Ecosystem"
   ]
  },
  {
   "cell_type": "markdown",
   "id": "22c7c060-aa8a-4292-8678-91587173cef8",
   "metadata": {},
   "source": [
    "In this notebook, Data Science Tools and Ecosystem are summarized.\n"
   ]
  },
  {
   "cell_type": "markdown",
   "id": "8ac2dfdb-6547-44b2-a1ef-9a01c32d8029",
   "metadata": {},
   "source": [
    "In this notebook, Data Science Tools and Ecosystem are summarized.\n"
   ]
  },
  {
   "cell_type": "markdown",
   "id": "1e5b9252-a081-4f2f-a574-d27af832c2c1",
   "metadata": {},
   "source": [
    "Some of the popular languages that Data Scientists use are:\n",
    "1. Python\n",
    "2. R\n",
    "3. Julia\n"
   ]
  },
  {
   "cell_type": "markdown",
   "id": "134d6d2d-1812-4f77-9024-996998341afe",
   "metadata": {},
   "source": [
    "Some of the popular languages that Data Scientists use are:\n",
    "1. Python\n",
    "2. R\n",
    "3. Julia\n"
   ]
  },
  {
   "cell_type": "markdown",
   "id": "d4a614fc-d0e1-4f59-94ec-5abdd68e768d",
   "metadata": {},
   "source": [
    "Some of the commonly used libraries used by Data Scientists include:\n",
    "1. NumPy\n",
    "2. pandas\n",
    "3. Matplotlib\n"
   ]
  },
  {
   "cell_type": "markdown",
   "id": "9fe30aa3-ec1d-4a7d-af7f-ecfd45bbb980",
   "metadata": {},
   "source": [
    "Some of the commonly used libraries used by Data Scientists include:\n",
    "1. NumPy\n",
    "2. pandas\n",
    "3. Matplotlib\n"
   ]
  },
  {
   "cell_type": "markdown",
   "id": "2782f96a-d190-41bd-802e-617e1fc7a061",
   "metadata": {},
   "source": [
    "| Data Science Tools |\n",
    "|---------------------|\n",
    "| Jupyter Notebooks   |\n",
    "| RStudio             |\n",
    "| VS Code             |\n"
   ]
  },
  {
   "cell_type": "markdown",
   "id": "3759348f-dc05-428b-98a3-813cbbd38998",
   "metadata": {},
   "source": [
    "| Data Science Tools |\n",
    "|---------------------|\n",
    "| Jupyter Notebooks   |\n",
    "| RStudio             |\n",
    "| VS Code             |\n"
   ]
  },
  {
   "cell_type": "markdown",
   "id": "617c0b4c-4c99-4356-b031-4b325c3c9f94",
   "metadata": {},
   "source": [
    "### Below are a few examples of evaluating arithmetic expressions in Python.\n"
   ]
  },
  {
   "cell_type": "markdown",
   "id": "ec439e84-4019-43ea-a9e0-4441f983be6b",
   "metadata": {},
   "source": [
    "### Below are a few examples of evaluating arithmetic expressions in Python.\n"
   ]
  },
  {
   "cell_type": "code",
   "execution_count": 1,
   "id": "429f0f41-53f5-49dc-8db0-12d2fea3c100",
   "metadata": {
    "jp-MarkdownHeadingCollapsed": true
   },
   "outputs": [
    {
     "data": {
      "text/plain": [
       "17"
      ]
     },
     "execution_count": 1,
     "metadata": {},
     "output_type": "execute_result"
    }
   ],
   "source": [
    "# This is a simple arithmetic expression to multiply then add integers.\r\n",
    "result = (3 * 4) + 5\r\n",
    "result\r\n"
   ]
  },
  {
   "cell_type": "code",
   "execution_count": 2,
   "id": "5c76d0c9-de8d-42c5-a11a-d21157c0f22e",
   "metadata": {},
   "outputs": [
    {
     "data": {
      "text/plain": [
       "3.3333333333333335"
      ]
     },
     "execution_count": 2,
     "metadata": {},
     "output_type": "execute_result"
    }
   ],
   "source": [
    "# This will convert 200 minutes to hours by dividing by 60.\n",
    "hours = 200 / 60\n",
    "hours\n"
   ]
  },
  {
   "cell_type": "markdown",
   "id": "3555fe93-0854-4b01-bb0c-4ffae49775be",
   "metadata": {},
   "source": [
    "## Objectives:\n",
    "\n",
    "- List popular languages for Data Science.\n",
    "- Introduce commonly used Data Science libraries.\n",
    "- Summarize key Data Science tools.\n",
    "- Provide examples of arithmetic expressions in Python.\n",
    "- Demonstrate simple calculations, such as converting minutes to hours.\n"
   ]
  },
  {
   "cell_type": "markdown",
   "id": "310191e7-b54b-4d6a-931b-0867d66d4817",
   "metadata": {},
   "source": [
    "## Objectives:\n",
    "\n",
    "- List popular languages for Data Science.\n",
    "- Introduce commonly used Data Science libraries.\n",
    "- Summarize key Data Science tools.\n",
    "- Provide examples of arithmetic expressions in Python.\n",
    "- Demonstrate simple calculations, such as converting minutes to hours.\n"
   ]
  },
  {
   "cell_type": "markdown",
   "id": "3e9e801e-2db1-4d55-964e-d52d37678f50",
   "metadata": {},
   "source": [
    "## Author\n",
    "\n",
    "Shrinith S Shetty\n"
   ]
  },
  {
   "cell_type": "markdown",
   "id": "9f456c09-d03d-4456-8af6-1f2923c937b5",
   "metadata": {},
   "source": [
    "## Author\n",
    "\n",
    "Shrinith S Shetty\n"
   ]
  },
  {
   "cell_type": "code",
   "execution_count": null,
   "id": "4b3f7a10-4f22-4df8-bcc8-94f8b545285d",
   "metadata": {},
   "outputs": [],
   "source": []
  }
 ],
 "metadata": {
  "kernelspec": {
   "display_name": "Python 3 (ipykernel)",
   "language": "python",
   "name": "python3"
  },
  "language_info": {
   "codemirror_mode": {
    "name": "ipython",
    "version": 3
   },
   "file_extension": ".py",
   "mimetype": "text/x-python",
   "name": "python",
   "nbconvert_exporter": "python",
   "pygments_lexer": "ipython3",
   "version": "3.11.5"
  }
 },
 "nbformat": 4,
 "nbformat_minor": 5
}
